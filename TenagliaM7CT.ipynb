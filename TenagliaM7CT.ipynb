{
  "nbformat": 4,
  "nbformat_minor": 0,
  "metadata": {
    "colab": {
      "provenance": [],
      "authorship_tag": "ABX9TyP7tPsXU7T+geh6RupEXO/8",
      "include_colab_link": true
    },
    "kernelspec": {
      "name": "python3",
      "display_name": "Python 3"
    },
    "language_info": {
      "name": "python"
    }
  },
  "cells": [
    {
      "cell_type": "markdown",
      "metadata": {
        "id": "view-in-github",
        "colab_type": "text"
      },
      "source": [
        "<a href=\"https://colab.research.google.com/github/ColinTenaglia/CSC500-1/blob/main/TenagliaM7CT.ipynb\" target=\"_parent\"><img src=\"https://colab.research.google.com/assets/colab-badge.svg\" alt=\"Open In Colab\"/></a>"
      ]
    },
    {
      "cell_type": "markdown",
      "source": [
        "### **Class CourseDetails:**\n",
        "\n",
        "- **Function __init__():**\n",
        "  - Initialize `room_numbers`, `instructors`, and `meeting_times` dictionaries with course details.\n",
        "\n",
        "- **Function get_course_details(course_number):**\n",
        "  - Retrieve details (room number, instructor, and meeting time) of the given course number.\n",
        "  - Return the details as a formatted string if available, otherwise return a message indicating details not found.\n",
        "\n",
        "### Function main():\n",
        "\n",
        "- Create an instance of the `CourseDetails` class.\n",
        "    \n",
        "- **Loop:**\n",
        "  - Prompt the user to input a course number.\n",
        "  - If the user inputs 'quit', exit the loop.\n",
        "  - Otherwise:\n",
        "    - Get details of the entered course number using the `CourseDetails` instance.\n",
        "    - Print the details.\n",
        "\n",
        "**If this script is executed directly:**\n",
        "- Call the `main` function.\n"
      ],
      "metadata": {
        "id": "Pqx-StA-0bxZ"
      }
    },
    {
      "cell_type": "code",
      "execution_count": 2,
      "metadata": {
        "colab": {
          "base_uri": "https://localhost:8080/"
        },
        "id": "ABrl9GRQz9Lk",
        "outputId": "be507f10-202b-402e-f8d8-f62eb33cd049"
      },
      "outputs": [
        {
          "name": "stdout",
          "output_type": "stream",
          "text": [
            "Enter a course number (or 'quit' to exit): CSC101\n",
            "Room Number: 3004, Instructor: Haynes, Meeting Time: 8:00 a.m.\n",
            "Enter a course number (or 'quit' to exit): NET110\n",
            "Room Number: 1244, Instructor: Burke, Meeting Time: 11:00 a.m.\n",
            "Enter a course number (or 'quit' to exit): quit\n"
          ]
        }
      ],
      "source": [
        "# This class contains details about different courses.\n",
        "class CourseDetails:\n",
        "\n",
        "    # This method initializes the CourseDetails object with room numbers, instructors, and meeting times for various courses.\n",
        "    def __init__(self):\n",
        "\n",
        "        # Dictionary containing course codes to room numbers.\n",
        "        self.room_numbers = {\n",
        "            \"CSC101\": \"3004\",\n",
        "            \"CSC102\": \"4501\",\n",
        "            \"CSC103\": \"6755\",\n",
        "            \"NET110\": \"1244\",\n",
        "            \"COM241\": \"1411\"\n",
        "        }\n",
        "\n",
        "        # Dictionary containing course codes to instructors' names.\n",
        "        self.instructors = {\n",
        "            \"CSC101\": \"Haynes\",\n",
        "            \"CSC102\": \"Alvarado\",\n",
        "            \"CSC103\": \"Rich\",\n",
        "            \"NET110\": \"Burke\",\n",
        "            \"COM241\": \"Lee\"\n",
        "        }\n",
        "\n",
        "        # Dictionary containing course codes to meeting times.\n",
        "        self.meeting_times = {\n",
        "            \"CSC101\": \"8:00 a.m.\",\n",
        "            \"CSC102\": \"9:00 a.m.\",\n",
        "            \"CSC103\": \"10:00 a.m.\",\n",
        "            \"NET110\": \"11:00 a.m.\",\n",
        "            \"COM241\": \"1:00 p.m.\"\n",
        "        }\n",
        "    # This definition retrieves details of a course utilizing its course number.\n",
        "    def get_course_details(self, course_number):\n",
        "\n",
        "        # Get room number for the given course number.\n",
        "        room_number = self.room_numbers.get(course_number)\n",
        "\n",
        "        # Get instructor for the given course number.\n",
        "        instructor = self.instructors.get(course_number)\n",
        "\n",
        "        # Get meeting time for the given course number.\n",
        "        meeting_time = self.meeting_times.get(course_number)\n",
        "\n",
        "        # If all details are available, return a formatted string with the details.\n",
        "        if room_number and instructor and meeting_time:\n",
        "            return f\"Room Number: {room_number}, Instructor: {instructor}, Meeting Time: {meeting_time}\"\n",
        "        else:\n",
        "            # If any detail is missing, return a message indicating that course details are not found.\n",
        "            return \"Course details not found.\"\n",
        "\n",
        "# This is the main function where the program execution begins.\n",
        "def main():\n",
        "\n",
        "    # Create an instance of the CourseDetails class.\n",
        "    course_details = CourseDetails()\n",
        "\n",
        "    while True:\n",
        "        # Prompt the user to input a course number.\n",
        "        course_number = input(\"Enter a course number (or 'quit' to exit): \")\n",
        "\n",
        "        # If the user enters 'quit', exit the loop.\n",
        "        if course_number.lower() == 'quit':\n",
        "            break\n",
        "\n",
        "        # Get details of the entered course number.\n",
        "        details = course_details.get_course_details(course_number)\n",
        "\n",
        "        # Print the details of the entered course number.\n",
        "        print(details)\n",
        "\n",
        "# Call the main function.\n",
        "if __name__ == \"__main__\":\n",
        "\n",
        "    main()\n"
      ]
    }
  ]
}