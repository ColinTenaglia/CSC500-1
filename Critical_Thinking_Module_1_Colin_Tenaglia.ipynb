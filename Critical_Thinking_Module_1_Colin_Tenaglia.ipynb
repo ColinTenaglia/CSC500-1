{
  "nbformat": 4,
  "nbformat_minor": 0,
  "metadata": {
    "colab": {
      "provenance": []
    },
    "kernelspec": {
      "name": "python3",
      "display_name": "Python 3"
    },
    "language_info": {
      "name": "python"
    }
  },
  "cells": [
    {
      "cell_type": "markdown",
      "source": [
        "##**Part 1 : Addition & Subtraction**\n",
        "\n",
        "####**Start**\n",
        "\n",
        "#####**User Prompt Input Step(s)**\n",
        "  - Prompt the user to \"Enter first number (**num1**): \"\n",
        "  - Read the **num1** entry from the user\n",
        "  - Prompt the user to \"Enter second number (**num2**): \"\n",
        "  - Read the **num2** entry from the user\n",
        "\n",
        "#####**Addition step**\n",
        "  - Perform addition by adding **num1** and **num2**\n",
        "  - Display \"The addition of **num1** and **num2** is: \"\n",
        "  - Display the result of the addition of **num1** and **num2**\n",
        "\n",
        "#####**Subtraction step**\n",
        "  - Perform subtraction by subtracting **num2** from **num1**\n",
        "  - Display \"The subtraction of **num2** from **num1** is: \"\n",
        "  - Display the result of the subtration of **num1** and **num2**\n",
        "\n",
        "####**End**"
      ],
      "metadata": {
        "id": "xsrwcXshOUeX"
      }
    },
    {
      "cell_type": "code",
      "execution_count": null,
      "metadata": {
        "colab": {
          "base_uri": "https://localhost:8080/"
        },
        "id": "MdA_HeEoNryz",
        "outputId": "8dca12f1-df22-4155-dadd-b27b286a571d"
      },
      "outputs": [
        {
          "output_type": "stream",
          "name": "stdout",
          "text": [
            "Enter first number (num1): 6\n",
            "Enter second number (num2): 4\n",
            "The addition of 6 and 4 is 10\n",
            "The subtraction of 6 from 4 is 2\n"
          ]
        }
      ],
      "source": [
        "# Part 1: Addition and Subtraction\n",
        "\n",
        "#Prompt step\n",
        "num1 = int(input(\"Enter first number (num1): \"))\n",
        "num2 = int(input(\"Enter second number (num2): \"))\n",
        "\n",
        "#addition step\n",
        "addition = num1 + num2\n",
        "\n",
        "#subtraction step\n",
        "subtraction = num1 - num2\n",
        "\n",
        "#Print results\n",
        "print(f\"The addition of {num1} and {num2} is {addition}\")\n",
        "print(f\"The subtraction of {num1} from {num2} is {subtraction}\")"
      ]
    },
    {
      "cell_type": "markdown",
      "source": [
        "##**Part 2 : Multiplication & Division**\n",
        "\n",
        "####**Start**\n",
        "\n",
        "#####**User Prompt Input Step(s)**\n",
        "\n",
        "- Prompt the user to \"Enter first number (num1): \"\n",
        "- Read the num1 entry from the user\n",
        "- Prompt the user to \"Enter second number (num2): \"\n",
        "- Read the num2 entry from the user\n",
        "\n",
        "#####**Multiplication step**\n",
        "\n",
        "- Perform multiplication by multiplying num1 and num2\n",
        "- Display \"The multiplication of num1 and num2 is: \"\n",
        "- Display the result of the multiplication of num1 and num2\n",
        "\n",
        "#####**Division step**\n",
        "\n",
        "- Perform division by dividing num1 by num2\n",
        "- Display \"The division of num1 by num2 is: \"\n",
        "- Display the result of the division of num1 by num2\n",
        "\n",
        "####**End**"
      ],
      "metadata": {
        "id": "2Ho3qOxwQhwl"
      }
    },
    {
      "cell_type": "code",
      "source": [
        "# Part 2: Multiplication and Division\n",
        "\n",
        "# Prompt Step\n",
        "num1 = int(input(\"Enter first number (num1): \"))\n",
        "num2 = int(input(\"Enter second number (num2): \"))\n",
        "\n",
        "# Multiplication Step\n",
        "multiplication = num1 * num2\n",
        "\n",
        "# Division Step\n",
        "division = num1 / num2\n",
        "\n",
        "# Print Results\n",
        "print(f\"The multiplication of {num1} and {num2} is {multiplication}\")\n",
        "print(f\"The division of {num1} by {num2} is {division}\")"
      ],
      "metadata": {
        "colab": {
          "base_uri": "https://localhost:8080/"
        },
        "id": "OVoR8Id0RsiD",
        "outputId": "430619d7-5105-4baa-ea9f-fe3920f8947e"
      },
      "execution_count": null,
      "outputs": [
        {
          "output_type": "stream",
          "name": "stdout",
          "text": [
            "Enter first number (num1): 6\n",
            "Enter second number (num2): 4\n",
            "The multiplication of 6 and 4 is 24\n",
            "The division of 6 by 4 is 1.5\n"
          ]
        }
      ]
    }
  ]
}