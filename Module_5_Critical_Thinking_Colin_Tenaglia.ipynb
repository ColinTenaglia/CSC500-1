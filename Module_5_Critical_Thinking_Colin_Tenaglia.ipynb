{
  "nbformat": 4,
  "nbformat_minor": 0,
  "metadata": {
    "colab": {
      "provenance": []
    },
    "kernelspec": {
      "name": "python3",
      "display_name": "Python 3"
    },
    "language_info": {
      "name": "python"
    }
  },
  "cells": [
    {
      "cell_type": "markdown",
      "source": [
        "###**Pseudo-Code**\n",
        "**Start**\n",
        "- **Define** function: average_rainfall\n",
        "- **Prompt** the user to enter the number of years\n",
        "- **Initialize** total_inches to 0\n",
        "- **Calculate** total_months as years multiplied by 12\n",
        "\n",
        "- For each year from 1 to years\n",
        "  - **Print** the current year number\n",
        "- For each month from 1 to 12\n",
        "   - **Prompt** the user to enter the rainfall in inches for the current month\n",
        "   - **Add** the rainfall to total_inches\n",
        "   - **Calculate** average_rainfall as total_inches divided by total_months\n",
        "\n",
        "- **Print** total_months\n",
        "- **Print** total_inches\n",
        "- **Print** average_rainfall\n",
        "\n",
        "**End**"
      ],
      "metadata": {
        "id": "_OWeI_KKmjDf"
      }
    },
    {
      "cell_type": "markdown",
      "source": [
        "###**Source Code**"
      ],
      "metadata": {
        "id": "UtRr2OAwoGbp"
      }
    },
    {
      "cell_type": "code",
      "execution_count": 5,
      "metadata": {
        "colab": {
          "base_uri": "https://localhost:8080/"
        },
        "id": "Rfhof3fLjmFO",
        "outputId": "d278a72a-98a0-4e25-dde0-a9173ee7425f"
      },
      "outputs": [
        {
          "output_type": "stream",
          "name": "stdout",
          "text": [
            "Enter the number of years: 2\n",
            "\n",
            "Year 1\n",
            "Enter the inches of rainfall for month 1: 18\n",
            "Enter the inches of rainfall for month 2: 17\n",
            "Enter the inches of rainfall for month 3: 15\n",
            "Enter the inches of rainfall for month 4: 6\n",
            "Enter the inches of rainfall for month 5: 3\n",
            "Enter the inches of rainfall for month 6: 69\n",
            "Enter the inches of rainfall for month 7: 2\n",
            "Enter the inches of rainfall for month 8: 4\n",
            "Enter the inches of rainfall for month 9: 16\n",
            "Enter the inches of rainfall for month 10: 20\n",
            "Enter the inches of rainfall for month 11: 20\n",
            "Enter the inches of rainfall for month 12: 16\n",
            "\n",
            "Year 2\n",
            "Enter the inches of rainfall for month 1: 35\n",
            "Enter the inches of rainfall for month 2: 34\n",
            "Enter the inches of rainfall for month 3: 5\n",
            "Enter the inches of rainfall for month 4: 61\n",
            "Enter the inches of rainfall for month 5: 21\n",
            "Enter the inches of rainfall for month 6: 11\n",
            "Enter the inches of rainfall for month 7: 12\n",
            "Enter the inches of rainfall for month 8: 13\n",
            "Enter the inches of rainfall for month 9: 4\n",
            "Enter the inches of rainfall for month 10: 5\n",
            "Enter the inches of rainfall for month 11: 12\n",
            "Enter the inches of rainfall for month 12: 2\n",
            "\n",
            "Rainfall Statistics:\n",
            "Total number of months: 24\n",
            "Total inches of rainfall: 421.00\n",
            "Average rainfall per month: 17.54 inches\n"
          ]
        }
      ],
      "source": [
        "def average_rainfall():\n",
        "    # Ask for the number of years\n",
        "    years = int(input(\"Enter the number of years: \"))\n",
        "\n",
        "    total_inches = 0\n",
        "    total_months = years * 12  # Total months\n",
        "\n",
        "    # Loop through each year\n",
        "    for year in range(1, years + 1):\n",
        "        print(f\"\\nYear {year}\")\n",
        "        # Loop through each month of the current year\n",
        "        for month in range(1, 13):\n",
        "            # Get the rainfall for the month\n",
        "            rainfall = float(input(f\"Enter the inches of rainfall for month {month}: \"))\n",
        "            total_inches += rainfall\n",
        "\n",
        "    # Calculate the average rainfall per month\n",
        "    average_rainfall = total_inches / total_months\n",
        "\n",
        "    # Display results\n",
        "    print(\"\\nRainfall Statistics:\")\n",
        "    print(f\"Total number of months: {total_months}\")\n",
        "    print(f\"Total inches of rainfall: {total_inches:.2f}\")\n",
        "    print(f\"Average rainfall per month: {average_rainfall:.2f} inches\")\n",
        "\n",
        "# Call the function to execute\n",
        "average_rainfall()"
      ]
    },
    {
      "cell_type": "markdown",
      "source": [
        "### **Pseudo-Code**\n",
        "**Start**\n",
        "- **Define** function: **book_club_points_accumulator**\n",
        "- **Prompt** the user to enter the number of months to record purchases\n",
        "- **Initialize** total_points to 0\n",
        "\n",
        "  - **For** each month from 1 to number_of_months\n",
        "    - **Prompt** the user to enter the number of books purchased in month {month}\n",
        "    - **Initialize** points to 0\n",
        "\n",
        "    - **If** books_purchased >= 8\n",
        "      - **Set** points to 60\n",
        "    - **Else if** books_purchased >= 6\n",
        "      - **Set** points to 30\n",
        "    - **Else if** books_purchased >= 4\n",
        "      - **Set** points to 15\n",
        "    - **Else if** books_purchased >= 2\n",
        "      - **Set** points to 5\n",
        "    - **Else**\n",
        "      - **Set** points to 0\n",
        "\n",
        "    - **Add** points to total_points\n",
        "    - **Print** \"Month {month}: Points awarded = {points}\"\n",
        "\n",
        "- **Print** \"Total points for {number_of_months} months: {total_points}\"\n",
        "\n",
        "**End**\n"
      ],
      "metadata": {
        "id": "r4py-TDGoww-"
      }
    },
    {
      "cell_type": "code",
      "source": [
        "def book_club_points_accumulator():\n",
        "    # Prompt the user for the number of months\n",
        "    number_of_months = int(input(\"Enter the number of months to record purchases: \"))\n",
        "    total_points = 0  # Initialize total points\n",
        "\n",
        "    # Process each month\n",
        "    for month in range(1, number_of_months + 1):\n",
        "        # Ask for the number of books purchased this month\n",
        "        books_purchased = int(input(f\"Enter the number of books purchased in month {month}: \"))\n",
        "        points = 0  # Initialize points for the current month\n",
        "\n",
        "        # Calculate points based on the number of books purchased\n",
        "        if books_purchased >= 8:\n",
        "            points = 60\n",
        "        elif books_purchased >= 6:\n",
        "            points = 30\n",
        "        elif books_purchased >= 4:\n",
        "            points = 15\n",
        "        elif books_purchased >= 2:\n",
        "            points = 5\n",
        "        else:\n",
        "            points = 0\n",
        "\n",
        "        # Add the points for this month to the total points\n",
        "        total_points += points\n",
        "\n",
        "        # Print the points for this month\n",
        "        print(f\"Month {month}: Points awarded = {points}\")\n",
        "\n",
        "    # Print the total points after all months have been processed\n",
        "    print(f\"Total points for {number_of_months} months: {total_points}\")\n",
        "\n",
        "# Call the function to execute\n",
        "book_club_points_accumulator()\n"
      ],
      "metadata": {
        "colab": {
          "base_uri": "https://localhost:8080/"
        },
        "id": "rYZIp_VijmpV",
        "outputId": "63c777cc-3e07-4a74-ae57-d88b7407e9b2"
      },
      "execution_count": 10,
      "outputs": [
        {
          "output_type": "stream",
          "name": "stdout",
          "text": [
            "Enter the number of months to record purchases: 4\n",
            "Enter the number of books purchased in month 1: 5\n",
            "Month 1: Points awarded = 15\n",
            "Enter the number of books purchased in month 2: 3\n",
            "Month 2: Points awarded = 5\n",
            "Enter the number of books purchased in month 3: 1\n",
            "Month 3: Points awarded = 0\n",
            "Enter the number of books purchased in month 4: 6\n",
            "Month 4: Points awarded = 30\n",
            "Total points for 4 months: 50\n"
          ]
        }
      ]
    },
    {
      "cell_type": "code",
      "source": [],
      "metadata": {
        "id": "o2jOHce-pRcN"
      },
      "execution_count": null,
      "outputs": []
    }
  ]
}